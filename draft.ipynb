{
 "cells": [
  {
   "cell_type": "markdown",
   "metadata": {},
   "source": [
    "## Linear Algebra 2: Coding Exercises (extra) '[DRAFT]' ##"
   ]
  },
  {
   "cell_type": "markdown",
   "metadata": {},
   "source": [
    "Goal: Implement function to reverse matrices:\n",
    "\n",
    "- Ask students about elementary functions\n",
    "- Agree on data structure\n",
    "\n",
    "<br>\n",
    "\n",
    "Parts of code:\n",
    "- 1) Elementary Manipulations\n",
    "- 1.1 Get Size of Matrices\n",
    "- 1.2 Add / Substract Matrices\n",
    "- 1.0 Create Identity Matrices\n",
    "- 1.4 Multiply Matrices\n",
    "- 1.5 Displace Rows / Elementary Row Operations"
   ]
  },
  {
   "cell_type": "markdown",
   "metadata": {},
   "source": [
    "Let a conventional 3\\*3 Matrix A as such:"
   ]
  },
  {
   "cell_type": "code",
   "execution_count": 87,
   "metadata": {},
   "outputs": [],
   "source": [
    "A = [\n",
    "    [1, 2, 3],\n",
    "    [4, 5, 6],\n",
    "    [7, 8, 9]\n",
    "]"
   ]
  },
  {
   "cell_type": "markdown",
   "metadata": {},
   "source": [
    "<hr style=\"weight:1px\">"
   ]
  },
  {
   "cell_type": "markdown",
   "metadata": {},
   "source": [
    "## 1) Elementary Operations"
   ]
  },
  {
   "cell_type": "markdown",
   "metadata": {},
   "source": [
    "### 1.0) Create Empty Matrix and Identity Matrix\n",
    "\n",
    "##### Create functions Empty([i, j]) and Id(i) which respectively create an empty matrix (full of 0s) of size [i,j] and an identity matrix of size [i,i]."
   ]
  },
  {
   "cell_type": "code",
   "execution_count": 94,
   "metadata": {},
   "outputs": [
    {
     "name": "stdout",
     "output_type": "stream",
     "text": [
      "[1, 0, 0, 0, 0]\n",
      "[0, 1, 0, 0, 0]\n",
      "[0, 0, 1, 0, 0]\n",
      "[0, 0, 0, 1, 0]\n",
      "[0, 0, 0, 0, 1]\n"
     ]
    }
   ],
   "source": [
    "# Will add comments at the end\n",
    "\n",
    "def Empty(size):\n",
    "    \n",
    "    i, j = size[0], size[1]\n",
    "    \n",
    "    empty = []\n",
    "    \n",
    "    for k in range(i):\n",
    "        empty.append([])\n",
    "        \n",
    "        for l in range(j):\n",
    "            empty[k].append(0)\n",
    "    \n",
    "    return empty\n",
    "\n",
    "\n",
    "def Id(i):\n",
    "    \n",
    "    Id = []\n",
    "    \n",
    "    for k in range(i):\n",
    "        Id.append([])\n",
    "        \n",
    "        for l in range(i):\n",
    "            \n",
    "            if k == l:\n",
    "                Id[k].append(1)\n",
    "                \n",
    "            else:\n",
    "                Id[k].append(0)    \n",
    "    \n",
    "    return Id\n",
    "\n",
    "# A prettier print for matrices\n",
    "def printMat(A):\n",
    "    \n",
    "    for i in range(len(A)):\n",
    "        \n",
    "        print(A[i])\n",
    "        \n",
    "\n",
    "printMat(Id(5))"
   ]
  },
  {
   "cell_type": "markdown",
   "metadata": {},
   "source": [
    "### 1.1) Get the Size, Columns and Rows of a Matrix\n",
    "\n",
    "##### With such a Matrix, create function \"size()\" with a Matrix as an input, which returns a tuple with the size of the matrix. Beware of special cases:"
   ]
  },
  {
   "cell_type": "code",
   "execution_count": 89,
   "metadata": {},
   "outputs": [],
   "source": [
    "# Insert your code here:\n",
    "# Example of verbose implementation\n",
    "\n",
    "def size(mat):\n",
    "    \n",
    "    # Initialize size\n",
    "    size = []\n",
    "    \n",
    "    # Looping through the rows\n",
    "    for row in mat:\n",
    "        \n",
    "        # Idea: if the length of one of the rows has not be registered, then it should be\n",
    "        if len(row) not in size:\n",
    "            size.append(len(row))\n",
    "    \n",
    "    # Do not forget to get how many rows there are\n",
    "    size.append(len(mat))\n",
    "    \n",
    "    # If 0: invalid matrix, and if there are more than 2 row length in the size, it is an invalid matrix\n",
    "    if 0 in size or len(size) != 2:\n",
    "        return [None, None]\n",
    "    \n",
    "    # Implementation-wise\n",
    "    size[0], size[1] = size[1], size[0]\n",
    "    \n",
    "    return size\n",
    "\n",
    "\n",
    "def row(A, k):\n",
    "    \n",
    "    if k < 0 or k >= size(A)[0]:\n",
    "        return None\n",
    "    \n",
    "    return A[k]\n",
    "\n",
    "\n",
    "def column(A, k):\n",
    "    \n",
    "    if k < 0 or k >= size(A)[1]:\n",
    "        return None\n",
    "    \n",
    "    col = []\n",
    "    for i in range(len(A)):\n",
    "        col.append(A[i][k])\n",
    "    \n",
    "    return col\n",
    "\n",
    "def dot(V1, V2):\n",
    "    \n",
    "    if len(V1) != len(V2):\n",
    "        return None\n",
    "    \n",
    "    result = 0\n",
    "    \n",
    "    for i in range(len(V1)):\n",
    "        result += V1[i] * V2[i]\n",
    "        \n",
    "    return result\n",
    "\n",
    "\n",
    "# Assertion Cases:\n",
    "\n",
    "# Valid Matrices A & B\n",
    "A = [\n",
    "    [1, 0],\n",
    "    [0, 1]\n",
    "]\n",
    "\n",
    "B = [\n",
    "    [1, 0, 0],\n",
    "    [0, 0, 1]\n",
    "]\n",
    "\n",
    "C = [[1]]\n",
    "\n",
    "# Invalid Matrices D & E\n",
    "D = [\n",
    "    [1, 0, 0],\n",
    "    [0, 1]\n",
    "]\n",
    "\n",
    "E = [[]]\n",
    "\n",
    "\n",
    "# Assertions:\n",
    "assert(size(A) == [2,2])\n",
    "assert(size(B) == [2,3])\n",
    "assert(size(C) == [1,1])\n",
    "assert(size(D) == [None, None])\n",
    "assert(size(E) == [None, None])"
   ]
  },
  {
   "cell_type": "markdown",
   "metadata": {},
   "source": [
    "### 1.2) Add and Substract Matrices\n",
    "\n",
    "##### Create the functions \"add(A,B)\" and \"substract(A,B)\" with a matrices A (on the left) and B (on the right) as input, returning the addition of A and B, or A substracted by B. Recall that those operations need that A and B have the same size, you may create an additional function to verify this stance if wished. If A and B are not compatible, return None."
   ]
  },
  {
   "cell_type": "code",
   "execution_count": 90,
   "metadata": {},
   "outputs": [
    {
     "name": "stdout",
     "output_type": "stream",
     "text": [
      "Those matrices do not have the same size!\n"
     ]
    }
   ],
   "source": [
    "# Insert your code here:\n",
    "# Example of verbose implementation\n",
    "\n",
    "# Defined a helper function to see if A and B have the same size\n",
    "def sameSize(A, B):\n",
    "    return size(A) == size(B)\n",
    "\n",
    "def add(A, B):\n",
    "    \n",
    "    # Verify if A and B have the same size. If not, return None\n",
    "    if not sameSize(A, B):\n",
    "        print(\"Those matrices do not have the same size!\")\n",
    "        return None\n",
    "    \n",
    "    # Create C matrix as placeholder\n",
    "    C = Empty(size(A))\n",
    "    \n",
    "    # Looping through the elements of A (and B)\n",
    "    for i in range(len(A)):\n",
    "        for j in range(len(A[i])):\n",
    "            \n",
    "            # Adding the elements of B to A\n",
    "             C[i][j] = A[i][j] + B[i][j]\n",
    "                    \n",
    "    return C\n",
    "\n",
    "\n",
    "def substract(A, B):\n",
    "    \n",
    "    if not sameSize(A, B):\n",
    "        print(\"Those matrices do not have the same size!\")\n",
    "        return None\n",
    "    \n",
    "    # Create C matrix as placeholder\n",
    "    C = Empty(size(A))\n",
    "    \n",
    "    for i in range(len(A)):\n",
    "        for j in range(len(A[i])):\n",
    "            \n",
    "            # Here, order is important, A has to be on the left since generally A - B != B - A\n",
    "            C[i][j] = A[i][j] - B[i][j]\n",
    "            \n",
    "    return C\n",
    "\n",
    "\n",
    "# Assertion Cases:\n",
    "\n",
    "A = Id(2)\n",
    "\n",
    "B = [\n",
    "    [1, 2],\n",
    "    [3, 4]\n",
    "]\n",
    "\n",
    "C = [\n",
    "    [1, 2, 3, 4],\n",
    "    [5, 6, 7, 8]\n",
    "]\n",
    "\n",
    "assert(add(A, B) == [[2, 2], [3, 5]])\n",
    "assert(substract(A, B) == [[0, -2], [-3, -3]])\n",
    "assert(substract(B, A) == [[0, 2], [3, 3]])\n",
    "assert(add(A, C) == None) # Those matrices do not have the same size!\n"
   ]
  },
  {
   "cell_type": "markdown",
   "metadata": {},
   "source": [
    "### 1.3) Matrix Multiplications\n",
    "\n",
    "##### Create two functions times(k, A) that computes constant k times A, and mult(A, B) returning the matrix multiplication of A (on the left) and B (on the right). Recall that A and B must have compatible sizes, return None if they are not (if A is a i\\*j matrix, then B must be a j\\*k matrix)."
   ]
  },
  {
   "cell_type": "code",
   "execution_count": 91,
   "metadata": {},
   "outputs": [
    {
     "name": "stdout",
     "output_type": "stream",
     "text": [
      "[[5, 10], [9, 22]]\n"
     ]
    }
   ],
   "source": [
    "def times(k, A):\n",
    "    \n",
    "    C = Empty(size(A))\n",
    "    \n",
    "    for i in range(len(A)):\n",
    "        \n",
    "        for j in range(len(A[i])):\n",
    "            \n",
    "            C[i][j] = k*A[i][j]\n",
    "    \n",
    "    return C\n",
    "\n",
    "\n",
    "# Ask them to get column/row as lists then ask them to make dot product of those\n",
    "\n",
    "def mult(A, B):\n",
    "    \n",
    "    if size(A)[1] != size(B)[0]:\n",
    "        return None\n",
    "    \n",
    "    C = Empty([size(A)[0], size(B)[1]])\n",
    "    \n",
    "    for i in range(len(C)):\n",
    "        \n",
    "        for j in range(len(C[i])):\n",
    "            \n",
    "            C[i][j] = dot(row(A, i), column(B, j))\n",
    "            \n",
    "    return C\n",
    "\n",
    "\n",
    "\n",
    "A = [\n",
    "    [1, 0],\n",
    "    [0, 1]\n",
    "]\n",
    "\n",
    "A1 = [\n",
    "    [1, 2],\n",
    "    [3, 4]\n",
    "]\n",
    "\n",
    "A2 = [\n",
    "    [-1, 2],\n",
    "    [3, 4]\n",
    "]\n",
    "\n",
    "B = [\n",
    "    [1, 0, 0],\n",
    "    [0, 0, 1]\n",
    "]\n",
    "\n",
    "C = [\n",
    "    [1, 0, 0],\n",
    "    [0, 0, 1]\n",
    "]\n",
    "\n",
    "print(mult(A1, A2))"
   ]
  }
 ],
 "metadata": {
  "kernelspec": {
   "display_name": "Python 3",
   "language": "python",
   "name": "python3"
  },
  "language_info": {
   "codemirror_mode": {
    "name": "ipython",
    "version": 3
   },
   "file_extension": ".py",
   "mimetype": "text/x-python",
   "name": "python",
   "nbconvert_exporter": "python",
   "pygments_lexer": "ipython3",
   "version": "3.11.7"
  }
 },
 "nbformat": 4,
 "nbformat_minor": 2
}
